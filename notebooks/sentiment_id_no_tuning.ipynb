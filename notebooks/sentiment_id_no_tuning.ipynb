{
  "cells": [
    {
      "cell_type": "markdown",
      "id": "3ae2c9af",
      "metadata": {
        "id": "3ae2c9af"
      },
      "source": [
        "# Sentiment Analysis — ML with Regresion and Naive Bayes"
      ]
    },
    {
      "cell_type": "markdown",
      "id": "b2d05c76",
      "metadata": {
        "id": "b2d05c76"
      },
      "source": [
        "### 🔹 0) Setup & Mount Drive"
      ]
    },
    {
      "cell_type": "code",
      "source": [],
      "metadata": {
        "id": "-JT64k3D_8qa"
      },
      "id": "-JT64k3D_8qa",
      "execution_count": null,
      "outputs": []
    },
    {
      "cell_type": "code",
      "execution_count": 1,
      "id": "ea892d22",
      "metadata": {
        "colab": {
          "base_uri": "https://localhost:8080/"
        },
        "id": "ea892d22",
        "outputId": "391d0bf0-9239-4066-e6c1-0c9706dc323d"
      },
      "outputs": [
        {
          "output_type": "stream",
          "name": "stdout",
          "text": [
            "Mounted at /content/drive\n"
          ]
        }
      ],
      "source": [
        "\n",
        "# !pip install -q pandas scikit-learn matplotlib joblib nltk Sastrawi\n",
        "\n",
        "from google.colab import drive\n",
        "drive.mount('/content/drive')\n"
      ]
    },
    {
      "cell_type": "markdown",
      "id": "ddf81ce1",
      "metadata": {
        "id": "ddf81ce1"
      },
      "source": [
        "### 🔹 1) Import & Konfigurasi"
      ]
    },
    {
      "cell_type": "code",
      "execution_count": 2,
      "id": "d17beb01",
      "metadata": {
        "colab": {
          "base_uri": "https://localhost:8080/"
        },
        "id": "d17beb01",
        "outputId": "5fbe2be0-d917-4dd3-9f58-8a6298eb3bdd"
      },
      "outputs": [
        {
          "output_type": "stream",
          "name": "stdout",
          "text": [
            "\u001b[?25l   \u001b[90m━━━━━━━━━━━━━━━━━━━━━━━━━━━━━━━━━━━━━━━━\u001b[0m \u001b[32m0.0/209.7 kB\u001b[0m \u001b[31m?\u001b[0m eta \u001b[36m-:--:--\u001b[0m\r\u001b[2K   \u001b[91m━━━━━━━━━━━━━━━━━━━━━━━━━━━━━━━━━━━━━━━\u001b[0m\u001b[90m╺\u001b[0m \u001b[32m204.8/209.7 kB\u001b[0m \u001b[31m8.2 MB/s\u001b[0m eta \u001b[36m0:00:01\u001b[0m\r\u001b[2K   \u001b[90m━━━━━━━━━━━━━━━━━━━━━━━━━━━━━━━━━━━━━━━━\u001b[0m \u001b[32m209.7/209.7 kB\u001b[0m \u001b[31m5.3 MB/s\u001b[0m eta \u001b[36m0:00:00\u001b[0m\n",
            "\u001b[?25hCSV_PATH: /content/drive/My Drive/Proyek/Data/tweet.csv\n"
          ]
        },
        {
          "output_type": "stream",
          "name": "stderr",
          "text": [
            "[nltk_data] Downloading package stopwords to /root/nltk_data...\n",
            "[nltk_data]   Unzipping corpora/stopwords.zip.\n"
          ]
        }
      ],
      "source": [
        "import os, re, zipfile\n",
        "import numpy as np\n",
        "import pandas as pd\n",
        "import matplotlib.pyplot as plt\n",
        "\n",
        "from sklearn.model_selection import train_test_split\n",
        "from sklearn.feature_extraction.text import TfidfVectorizer\n",
        "from sklearn.naive_bayes import MultinomialNB\n",
        "from sklearn.linear_model import LogisticRegression\n",
        "from sklearn.metrics import classification_report, accuracy_score, confusion_matrix, f1_score\n",
        "import joblib\n",
        "\n",
        "import nltk\n",
        "from nltk.corpus import stopwords\n",
        "!pip install Sastrawi -q\n",
        "from Sastrawi.Stemmer.StemmerFactory import StemmerFactory\n",
        "\n",
        "# Pastikan stopwords Indonesia tersedia\n",
        "try:\n",
        "    _ = stopwords.words(\"indonesian\")\n",
        "except LookupError:\n",
        "    nltk.download(\"stopwords\")\n",
        "\n",
        "stop_words = set(stopwords.words(\"indonesian\"))\n",
        "stemmer = StemmerFactory().create_stemmer()\n",
        "\n",
        "# Path & output\n",
        "CSV_PATH = \"/content/drive/My Drive/Proyek/Data/tweet.csv\"  # ganti kalau perlu\n",
        "OUTPUT_DIR = \"/content/sentiment_outputs_no_tuning\"\n",
        "DRIVE_EXPORT_DIR = \"/content/drive/My Drive/AFI/Assigment/Sentiment\"\n",
        "os.makedirs(OUTPUT_DIR, exist_ok=True)\n",
        "os.makedirs(DRIVE_EXPORT_DIR, exist_ok=True)\n",
        "\n",
        "print(\"CSV_PATH:\", CSV_PATH)"
      ]
    },
    {
      "cell_type": "markdown",
      "id": "22a94106",
      "metadata": {
        "id": "22a94106"
      },
      "source": [
        "### 🔹 2) Muat Data"
      ]
    },
    {
      "cell_type": "code",
      "execution_count": 3,
      "id": "c25cc86f",
      "metadata": {
        "colab": {
          "base_uri": "https://localhost:8080/",
          "height": 224
        },
        "id": "c25cc86f",
        "outputId": "7dba5d56-cd7a-4394-c608-86c66a94d8c8"
      },
      "outputs": [
        {
          "output_type": "stream",
          "name": "stdout",
          "text": [
            "Jumlah baris: 1815\n"
          ]
        },
        {
          "output_type": "execute_result",
          "data": {
            "text/plain": [
              "                                               tweet sentimen\n",
              "0  Kata @prabowo Indonesia tidak dihargai bangsa ...  negatif\n",
              "1  Batuan Langka, Tasbih Jokowi Hadiah dari Habib...   netral\n",
              "2  Di era Jokowi, ekonomi Indonesia semakin baik....   netral\n",
              "3  Bagi Sumatera Selatan, Asian Games berdampak p...  positif\n",
              "4  Negara kita ngutang buat bngun infrastruktur y...  negatif"
            ],
            "text/html": [
              "\n",
              "  <div id=\"df-629c32a4-4f80-4d44-933e-dc1f73e6b3b0\" class=\"colab-df-container\">\n",
              "    <div>\n",
              "<style scoped>\n",
              "    .dataframe tbody tr th:only-of-type {\n",
              "        vertical-align: middle;\n",
              "    }\n",
              "\n",
              "    .dataframe tbody tr th {\n",
              "        vertical-align: top;\n",
              "    }\n",
              "\n",
              "    .dataframe thead th {\n",
              "        text-align: right;\n",
              "    }\n",
              "</style>\n",
              "<table border=\"1\" class=\"dataframe\">\n",
              "  <thead>\n",
              "    <tr style=\"text-align: right;\">\n",
              "      <th></th>\n",
              "      <th>tweet</th>\n",
              "      <th>sentimen</th>\n",
              "    </tr>\n",
              "  </thead>\n",
              "  <tbody>\n",
              "    <tr>\n",
              "      <th>0</th>\n",
              "      <td>Kata @prabowo Indonesia tidak dihargai bangsa ...</td>\n",
              "      <td>negatif</td>\n",
              "    </tr>\n",
              "    <tr>\n",
              "      <th>1</th>\n",
              "      <td>Batuan Langka, Tasbih Jokowi Hadiah dari Habib...</td>\n",
              "      <td>netral</td>\n",
              "    </tr>\n",
              "    <tr>\n",
              "      <th>2</th>\n",
              "      <td>Di era Jokowi, ekonomi Indonesia semakin baik....</td>\n",
              "      <td>netral</td>\n",
              "    </tr>\n",
              "    <tr>\n",
              "      <th>3</th>\n",
              "      <td>Bagi Sumatera Selatan, Asian Games berdampak p...</td>\n",
              "      <td>positif</td>\n",
              "    </tr>\n",
              "    <tr>\n",
              "      <th>4</th>\n",
              "      <td>Negara kita ngutang buat bngun infrastruktur y...</td>\n",
              "      <td>negatif</td>\n",
              "    </tr>\n",
              "  </tbody>\n",
              "</table>\n",
              "</div>\n",
              "    <div class=\"colab-df-buttons\">\n",
              "\n",
              "  <div class=\"colab-df-container\">\n",
              "    <button class=\"colab-df-convert\" onclick=\"convertToInteractive('df-629c32a4-4f80-4d44-933e-dc1f73e6b3b0')\"\n",
              "            title=\"Convert this dataframe to an interactive table.\"\n",
              "            style=\"display:none;\">\n",
              "\n",
              "  <svg xmlns=\"http://www.w3.org/2000/svg\" height=\"24px\" viewBox=\"0 -960 960 960\">\n",
              "    <path d=\"M120-120v-720h720v720H120Zm60-500h600v-160H180v160Zm220 220h160v-160H400v160Zm0 220h160v-160H400v160ZM180-400h160v-160H180v160Zm440 0h160v-160H620v160ZM180-180h160v-160H180v160Zm440 0h160v-160H620v160Z\"/>\n",
              "  </svg>\n",
              "    </button>\n",
              "\n",
              "  <style>\n",
              "    .colab-df-container {\n",
              "      display:flex;\n",
              "      gap: 12px;\n",
              "    }\n",
              "\n",
              "    .colab-df-convert {\n",
              "      background-color: #E8F0FE;\n",
              "      border: none;\n",
              "      border-radius: 50%;\n",
              "      cursor: pointer;\n",
              "      display: none;\n",
              "      fill: #1967D2;\n",
              "      height: 32px;\n",
              "      padding: 0 0 0 0;\n",
              "      width: 32px;\n",
              "    }\n",
              "\n",
              "    .colab-df-convert:hover {\n",
              "      background-color: #E2EBFA;\n",
              "      box-shadow: 0px 1px 2px rgba(60, 64, 67, 0.3), 0px 1px 3px 1px rgba(60, 64, 67, 0.15);\n",
              "      fill: #174EA6;\n",
              "    }\n",
              "\n",
              "    .colab-df-buttons div {\n",
              "      margin-bottom: 4px;\n",
              "    }\n",
              "\n",
              "    [theme=dark] .colab-df-convert {\n",
              "      background-color: #3B4455;\n",
              "      fill: #D2E3FC;\n",
              "    }\n",
              "\n",
              "    [theme=dark] .colab-df-convert:hover {\n",
              "      background-color: #434B5C;\n",
              "      box-shadow: 0px 1px 3px 1px rgba(0, 0, 0, 0.15);\n",
              "      filter: drop-shadow(0px 1px 2px rgba(0, 0, 0, 0.3));\n",
              "      fill: #FFFFFF;\n",
              "    }\n",
              "  </style>\n",
              "\n",
              "    <script>\n",
              "      const buttonEl =\n",
              "        document.querySelector('#df-629c32a4-4f80-4d44-933e-dc1f73e6b3b0 button.colab-df-convert');\n",
              "      buttonEl.style.display =\n",
              "        google.colab.kernel.accessAllowed ? 'block' : 'none';\n",
              "\n",
              "      async function convertToInteractive(key) {\n",
              "        const element = document.querySelector('#df-629c32a4-4f80-4d44-933e-dc1f73e6b3b0');\n",
              "        const dataTable =\n",
              "          await google.colab.kernel.invokeFunction('convertToInteractive',\n",
              "                                                    [key], {});\n",
              "        if (!dataTable) return;\n",
              "\n",
              "        const docLinkHtml = 'Like what you see? Visit the ' +\n",
              "          '<a target=\"_blank\" href=https://colab.research.google.com/notebooks/data_table.ipynb>data table notebook</a>'\n",
              "          + ' to learn more about interactive tables.';\n",
              "        element.innerHTML = '';\n",
              "        dataTable['output_type'] = 'display_data';\n",
              "        await google.colab.output.renderOutput(dataTable, element);\n",
              "        const docLink = document.createElement('div');\n",
              "        docLink.innerHTML = docLinkHtml;\n",
              "        element.appendChild(docLink);\n",
              "      }\n",
              "    </script>\n",
              "  </div>\n",
              "\n",
              "\n",
              "    <div id=\"df-a0a44d01-df45-40ab-b00d-7a88d0ad8412\">\n",
              "      <button class=\"colab-df-quickchart\" onclick=\"quickchart('df-a0a44d01-df45-40ab-b00d-7a88d0ad8412')\"\n",
              "                title=\"Suggest charts\"\n",
              "                style=\"display:none;\">\n",
              "\n",
              "<svg xmlns=\"http://www.w3.org/2000/svg\" height=\"24px\"viewBox=\"0 0 24 24\"\n",
              "     width=\"24px\">\n",
              "    <g>\n",
              "        <path d=\"M19 3H5c-1.1 0-2 .9-2 2v14c0 1.1.9 2 2 2h14c1.1 0 2-.9 2-2V5c0-1.1-.9-2-2-2zM9 17H7v-7h2v7zm4 0h-2V7h2v10zm4 0h-2v-4h2v4z\"/>\n",
              "    </g>\n",
              "</svg>\n",
              "      </button>\n",
              "\n",
              "<style>\n",
              "  .colab-df-quickchart {\n",
              "      --bg-color: #E8F0FE;\n",
              "      --fill-color: #1967D2;\n",
              "      --hover-bg-color: #E2EBFA;\n",
              "      --hover-fill-color: #174EA6;\n",
              "      --disabled-fill-color: #AAA;\n",
              "      --disabled-bg-color: #DDD;\n",
              "  }\n",
              "\n",
              "  [theme=dark] .colab-df-quickchart {\n",
              "      --bg-color: #3B4455;\n",
              "      --fill-color: #D2E3FC;\n",
              "      --hover-bg-color: #434B5C;\n",
              "      --hover-fill-color: #FFFFFF;\n",
              "      --disabled-bg-color: #3B4455;\n",
              "      --disabled-fill-color: #666;\n",
              "  }\n",
              "\n",
              "  .colab-df-quickchart {\n",
              "    background-color: var(--bg-color);\n",
              "    border: none;\n",
              "    border-radius: 50%;\n",
              "    cursor: pointer;\n",
              "    display: none;\n",
              "    fill: var(--fill-color);\n",
              "    height: 32px;\n",
              "    padding: 0;\n",
              "    width: 32px;\n",
              "  }\n",
              "\n",
              "  .colab-df-quickchart:hover {\n",
              "    background-color: var(--hover-bg-color);\n",
              "    box-shadow: 0 1px 2px rgba(60, 64, 67, 0.3), 0 1px 3px 1px rgba(60, 64, 67, 0.15);\n",
              "    fill: var(--button-hover-fill-color);\n",
              "  }\n",
              "\n",
              "  .colab-df-quickchart-complete:disabled,\n",
              "  .colab-df-quickchart-complete:disabled:hover {\n",
              "    background-color: var(--disabled-bg-color);\n",
              "    fill: var(--disabled-fill-color);\n",
              "    box-shadow: none;\n",
              "  }\n",
              "\n",
              "  .colab-df-spinner {\n",
              "    border: 2px solid var(--fill-color);\n",
              "    border-color: transparent;\n",
              "    border-bottom-color: var(--fill-color);\n",
              "    animation:\n",
              "      spin 1s steps(1) infinite;\n",
              "  }\n",
              "\n",
              "  @keyframes spin {\n",
              "    0% {\n",
              "      border-color: transparent;\n",
              "      border-bottom-color: var(--fill-color);\n",
              "      border-left-color: var(--fill-color);\n",
              "    }\n",
              "    20% {\n",
              "      border-color: transparent;\n",
              "      border-left-color: var(--fill-color);\n",
              "      border-top-color: var(--fill-color);\n",
              "    }\n",
              "    30% {\n",
              "      border-color: transparent;\n",
              "      border-left-color: var(--fill-color);\n",
              "      border-top-color: var(--fill-color);\n",
              "      border-right-color: var(--fill-color);\n",
              "    }\n",
              "    40% {\n",
              "      border-color: transparent;\n",
              "      border-right-color: var(--fill-color);\n",
              "      border-top-color: var(--fill-color);\n",
              "    }\n",
              "    60% {\n",
              "      border-color: transparent;\n",
              "      border-right-color: var(--fill-color);\n",
              "    }\n",
              "    80% {\n",
              "      border-color: transparent;\n",
              "      border-right-color: var(--fill-color);\n",
              "      border-bottom-color: var(--fill-color);\n",
              "    }\n",
              "    90% {\n",
              "      border-color: transparent;\n",
              "      border-bottom-color: var(--fill-color);\n",
              "    }\n",
              "  }\n",
              "</style>\n",
              "\n",
              "      <script>\n",
              "        async function quickchart(key) {\n",
              "          const quickchartButtonEl =\n",
              "            document.querySelector('#' + key + ' button');\n",
              "          quickchartButtonEl.disabled = true;  // To prevent multiple clicks.\n",
              "          quickchartButtonEl.classList.add('colab-df-spinner');\n",
              "          try {\n",
              "            const charts = await google.colab.kernel.invokeFunction(\n",
              "                'suggestCharts', [key], {});\n",
              "          } catch (error) {\n",
              "            console.error('Error during call to suggestCharts:', error);\n",
              "          }\n",
              "          quickchartButtonEl.classList.remove('colab-df-spinner');\n",
              "          quickchartButtonEl.classList.add('colab-df-quickchart-complete');\n",
              "        }\n",
              "        (() => {\n",
              "          let quickchartButtonEl =\n",
              "            document.querySelector('#df-a0a44d01-df45-40ab-b00d-7a88d0ad8412 button');\n",
              "          quickchartButtonEl.style.display =\n",
              "            google.colab.kernel.accessAllowed ? 'block' : 'none';\n",
              "        })();\n",
              "      </script>\n",
              "    </div>\n",
              "\n",
              "    </div>\n",
              "  </div>\n"
            ],
            "application/vnd.google.colaboratory.intrinsic+json": {
              "type": "dataframe",
              "variable_name": "df",
              "summary": "{\n  \"name\": \"df\",\n  \"rows\": 1815,\n  \"fields\": [\n    {\n      \"column\": \"tweet\",\n      \"properties\": {\n        \"dtype\": \"string\",\n        \"num_unique_values\": 1815,\n        \"samples\": [\n          \"Bukan hanya kurang milenial, tapi memang dia sama sekali ga paham potensi bisnis di dunia digitalisasi. Apalagi jika itu tentang ekonomi kreatif dan era industri 4.0 apa yang dia tahu? Nothing! Sementara, saat ini pemerintahan jokowi sudah menyiapkan infrastruktur ke arah sana.\",\n          \"artinya presiden yg ke 6 tdk menerima gaji.prabowo sandi akan dilimpahkan ke yatim piatu dan dhuafa subhanallah\",\n          \"Kalau menurut saya  bang @sandiuno  dan bapak @prabowo   mampu menempatkan di mana tugasnya  Karna saya bangga pak prabowo memberikan kesempatan untuk yang ahlinya Penjaga kedaulatan Dan  Pengelola perekonomian  Aman adil .dan makmur . Sehat selalu tugas berat di pundak bapak br2\"\n        ],\n        \"semantic_type\": \"\",\n        \"description\": \"\"\n      }\n    },\n    {\n      \"column\": \"sentimen\",\n      \"properties\": {\n        \"dtype\": \"category\",\n        \"num_unique_values\": 3,\n        \"samples\": [\n          \"negatif\",\n          \"netral\",\n          \"positif\"\n        ],\n        \"semantic_type\": \"\",\n        \"description\": \"\"\n      }\n    }\n  ]\n}"
            }
          },
          "metadata": {},
          "execution_count": 3
        }
      ],
      "source": [
        "\n",
        "df = pd.read_csv(CSV_PATH)\n",
        "TEXT_COL, LABEL_COL = \"tweet\", \"sentimen\"\n",
        "assert TEXT_COL in df.columns and LABEL_COL in df.columns, \"Kolom 'tweet' & 'sentimen' wajib ada.\"\n",
        "\n",
        "df = df[[TEXT_COL, LABEL_COL]].dropna().reset_index(drop=True)\n",
        "print(\"Jumlah baris:\", len(df))\n",
        "df.head()\n"
      ]
    },
    {
      "cell_type": "markdown",
      "id": "7837856e",
      "metadata": {
        "id": "7837856e"
      },
      "source": [
        "### 🔹 3) Preprocessing (Text Cleaning)"
      ]
    },
    {
      "cell_type": "code",
      "execution_count": 4,
      "id": "b8939ee7",
      "metadata": {
        "colab": {
          "base_uri": "https://localhost:8080/",
          "height": 206
        },
        "id": "b8939ee7",
        "outputId": "bb8ee4cf-ec2e-4890-babc-8fbeeb141840"
      },
      "outputs": [
        {
          "output_type": "execute_result",
          "data": {
            "text/plain": [
              "                                         clean_tweet sentimen\n",
              "0  indonesia harga bangsa asing berita hoax buat ...  negatif\n",
              "1  batu langka tasbih jokowi hadiah habib luthfi ...   netral\n",
              "2  era jokowi ekonomi indonesia pic twitter com w...   netral\n",
              "3  sumatera selatan asi games dampak pd ekonomi l...  positif\n",
              "4  negara ngutang bngun infrastruktur udah dipake...  negatif"
            ],
            "text/html": [
              "\n",
              "  <div id=\"df-e3ac81fe-3753-4ff3-86fd-ae5dc774a36b\" class=\"colab-df-container\">\n",
              "    <div>\n",
              "<style scoped>\n",
              "    .dataframe tbody tr th:only-of-type {\n",
              "        vertical-align: middle;\n",
              "    }\n",
              "\n",
              "    .dataframe tbody tr th {\n",
              "        vertical-align: top;\n",
              "    }\n",
              "\n",
              "    .dataframe thead th {\n",
              "        text-align: right;\n",
              "    }\n",
              "</style>\n",
              "<table border=\"1\" class=\"dataframe\">\n",
              "  <thead>\n",
              "    <tr style=\"text-align: right;\">\n",
              "      <th></th>\n",
              "      <th>clean_tweet</th>\n",
              "      <th>sentimen</th>\n",
              "    </tr>\n",
              "  </thead>\n",
              "  <tbody>\n",
              "    <tr>\n",
              "      <th>0</th>\n",
              "      <td>indonesia harga bangsa asing berita hoax buat ...</td>\n",
              "      <td>negatif</td>\n",
              "    </tr>\n",
              "    <tr>\n",
              "      <th>1</th>\n",
              "      <td>batu langka tasbih jokowi hadiah habib luthfi ...</td>\n",
              "      <td>netral</td>\n",
              "    </tr>\n",
              "    <tr>\n",
              "      <th>2</th>\n",
              "      <td>era jokowi ekonomi indonesia pic twitter com w...</td>\n",
              "      <td>netral</td>\n",
              "    </tr>\n",
              "    <tr>\n",
              "      <th>3</th>\n",
              "      <td>sumatera selatan asi games dampak pd ekonomi l...</td>\n",
              "      <td>positif</td>\n",
              "    </tr>\n",
              "    <tr>\n",
              "      <th>4</th>\n",
              "      <td>negara ngutang bngun infrastruktur udah dipake...</td>\n",
              "      <td>negatif</td>\n",
              "    </tr>\n",
              "  </tbody>\n",
              "</table>\n",
              "</div>\n",
              "    <div class=\"colab-df-buttons\">\n",
              "\n",
              "  <div class=\"colab-df-container\">\n",
              "    <button class=\"colab-df-convert\" onclick=\"convertToInteractive('df-e3ac81fe-3753-4ff3-86fd-ae5dc774a36b')\"\n",
              "            title=\"Convert this dataframe to an interactive table.\"\n",
              "            style=\"display:none;\">\n",
              "\n",
              "  <svg xmlns=\"http://www.w3.org/2000/svg\" height=\"24px\" viewBox=\"0 -960 960 960\">\n",
              "    <path d=\"M120-120v-720h720v720H120Zm60-500h600v-160H180v160Zm220 220h160v-160H400v160Zm0 220h160v-160H400v160ZM180-400h160v-160H180v160Zm440 0h160v-160H620v160ZM180-180h160v-160H180v160Zm440 0h160v-160H620v160Z\"/>\n",
              "  </svg>\n",
              "    </button>\n",
              "\n",
              "  <style>\n",
              "    .colab-df-container {\n",
              "      display:flex;\n",
              "      gap: 12px;\n",
              "    }\n",
              "\n",
              "    .colab-df-convert {\n",
              "      background-color: #E8F0FE;\n",
              "      border: none;\n",
              "      border-radius: 50%;\n",
              "      cursor: pointer;\n",
              "      display: none;\n",
              "      fill: #1967D2;\n",
              "      height: 32px;\n",
              "      padding: 0 0 0 0;\n",
              "      width: 32px;\n",
              "    }\n",
              "\n",
              "    .colab-df-convert:hover {\n",
              "      background-color: #E2EBFA;\n",
              "      box-shadow: 0px 1px 2px rgba(60, 64, 67, 0.3), 0px 1px 3px 1px rgba(60, 64, 67, 0.15);\n",
              "      fill: #174EA6;\n",
              "    }\n",
              "\n",
              "    .colab-df-buttons div {\n",
              "      margin-bottom: 4px;\n",
              "    }\n",
              "\n",
              "    [theme=dark] .colab-df-convert {\n",
              "      background-color: #3B4455;\n",
              "      fill: #D2E3FC;\n",
              "    }\n",
              "\n",
              "    [theme=dark] .colab-df-convert:hover {\n",
              "      background-color: #434B5C;\n",
              "      box-shadow: 0px 1px 3px 1px rgba(0, 0, 0, 0.15);\n",
              "      filter: drop-shadow(0px 1px 2px rgba(0, 0, 0, 0.3));\n",
              "      fill: #FFFFFF;\n",
              "    }\n",
              "  </style>\n",
              "\n",
              "    <script>\n",
              "      const buttonEl =\n",
              "        document.querySelector('#df-e3ac81fe-3753-4ff3-86fd-ae5dc774a36b button.colab-df-convert');\n",
              "      buttonEl.style.display =\n",
              "        google.colab.kernel.accessAllowed ? 'block' : 'none';\n",
              "\n",
              "      async function convertToInteractive(key) {\n",
              "        const element = document.querySelector('#df-e3ac81fe-3753-4ff3-86fd-ae5dc774a36b');\n",
              "        const dataTable =\n",
              "          await google.colab.kernel.invokeFunction('convertToInteractive',\n",
              "                                                    [key], {});\n",
              "        if (!dataTable) return;\n",
              "\n",
              "        const docLinkHtml = 'Like what you see? Visit the ' +\n",
              "          '<a target=\"_blank\" href=https://colab.research.google.com/notebooks/data_table.ipynb>data table notebook</a>'\n",
              "          + ' to learn more about interactive tables.';\n",
              "        element.innerHTML = '';\n",
              "        dataTable['output_type'] = 'display_data';\n",
              "        await google.colab.output.renderOutput(dataTable, element);\n",
              "        const docLink = document.createElement('div');\n",
              "        docLink.innerHTML = docLinkHtml;\n",
              "        element.appendChild(docLink);\n",
              "      }\n",
              "    </script>\n",
              "  </div>\n",
              "\n",
              "\n",
              "    <div id=\"df-bad3cae9-c437-4ffc-93c8-ff083e2c1ca6\">\n",
              "      <button class=\"colab-df-quickchart\" onclick=\"quickchart('df-bad3cae9-c437-4ffc-93c8-ff083e2c1ca6')\"\n",
              "                title=\"Suggest charts\"\n",
              "                style=\"display:none;\">\n",
              "\n",
              "<svg xmlns=\"http://www.w3.org/2000/svg\" height=\"24px\"viewBox=\"0 0 24 24\"\n",
              "     width=\"24px\">\n",
              "    <g>\n",
              "        <path d=\"M19 3H5c-1.1 0-2 .9-2 2v14c0 1.1.9 2 2 2h14c1.1 0 2-.9 2-2V5c0-1.1-.9-2-2-2zM9 17H7v-7h2v7zm4 0h-2V7h2v10zm4 0h-2v-4h2v4z\"/>\n",
              "    </g>\n",
              "</svg>\n",
              "      </button>\n",
              "\n",
              "<style>\n",
              "  .colab-df-quickchart {\n",
              "      --bg-color: #E8F0FE;\n",
              "      --fill-color: #1967D2;\n",
              "      --hover-bg-color: #E2EBFA;\n",
              "      --hover-fill-color: #174EA6;\n",
              "      --disabled-fill-color: #AAA;\n",
              "      --disabled-bg-color: #DDD;\n",
              "  }\n",
              "\n",
              "  [theme=dark] .colab-df-quickchart {\n",
              "      --bg-color: #3B4455;\n",
              "      --fill-color: #D2E3FC;\n",
              "      --hover-bg-color: #434B5C;\n",
              "      --hover-fill-color: #FFFFFF;\n",
              "      --disabled-bg-color: #3B4455;\n",
              "      --disabled-fill-color: #666;\n",
              "  }\n",
              "\n",
              "  .colab-df-quickchart {\n",
              "    background-color: var(--bg-color);\n",
              "    border: none;\n",
              "    border-radius: 50%;\n",
              "    cursor: pointer;\n",
              "    display: none;\n",
              "    fill: var(--fill-color);\n",
              "    height: 32px;\n",
              "    padding: 0;\n",
              "    width: 32px;\n",
              "  }\n",
              "\n",
              "  .colab-df-quickchart:hover {\n",
              "    background-color: var(--hover-bg-color);\n",
              "    box-shadow: 0 1px 2px rgba(60, 64, 67, 0.3), 0 1px 3px 1px rgba(60, 64, 67, 0.15);\n",
              "    fill: var(--button-hover-fill-color);\n",
              "  }\n",
              "\n",
              "  .colab-df-quickchart-complete:disabled,\n",
              "  .colab-df-quickchart-complete:disabled:hover {\n",
              "    background-color: var(--disabled-bg-color);\n",
              "    fill: var(--disabled-fill-color);\n",
              "    box-shadow: none;\n",
              "  }\n",
              "\n",
              "  .colab-df-spinner {\n",
              "    border: 2px solid var(--fill-color);\n",
              "    border-color: transparent;\n",
              "    border-bottom-color: var(--fill-color);\n",
              "    animation:\n",
              "      spin 1s steps(1) infinite;\n",
              "  }\n",
              "\n",
              "  @keyframes spin {\n",
              "    0% {\n",
              "      border-color: transparent;\n",
              "      border-bottom-color: var(--fill-color);\n",
              "      border-left-color: var(--fill-color);\n",
              "    }\n",
              "    20% {\n",
              "      border-color: transparent;\n",
              "      border-left-color: var(--fill-color);\n",
              "      border-top-color: var(--fill-color);\n",
              "    }\n",
              "    30% {\n",
              "      border-color: transparent;\n",
              "      border-left-color: var(--fill-color);\n",
              "      border-top-color: var(--fill-color);\n",
              "      border-right-color: var(--fill-color);\n",
              "    }\n",
              "    40% {\n",
              "      border-color: transparent;\n",
              "      border-right-color: var(--fill-color);\n",
              "      border-top-color: var(--fill-color);\n",
              "    }\n",
              "    60% {\n",
              "      border-color: transparent;\n",
              "      border-right-color: var(--fill-color);\n",
              "    }\n",
              "    80% {\n",
              "      border-color: transparent;\n",
              "      border-right-color: var(--fill-color);\n",
              "      border-bottom-color: var(--fill-color);\n",
              "    }\n",
              "    90% {\n",
              "      border-color: transparent;\n",
              "      border-bottom-color: var(--fill-color);\n",
              "    }\n",
              "  }\n",
              "</style>\n",
              "\n",
              "      <script>\n",
              "        async function quickchart(key) {\n",
              "          const quickchartButtonEl =\n",
              "            document.querySelector('#' + key + ' button');\n",
              "          quickchartButtonEl.disabled = true;  // To prevent multiple clicks.\n",
              "          quickchartButtonEl.classList.add('colab-df-spinner');\n",
              "          try {\n",
              "            const charts = await google.colab.kernel.invokeFunction(\n",
              "                'suggestCharts', [key], {});\n",
              "          } catch (error) {\n",
              "            console.error('Error during call to suggestCharts:', error);\n",
              "          }\n",
              "          quickchartButtonEl.classList.remove('colab-df-spinner');\n",
              "          quickchartButtonEl.classList.add('colab-df-quickchart-complete');\n",
              "        }\n",
              "        (() => {\n",
              "          let quickchartButtonEl =\n",
              "            document.querySelector('#df-bad3cae9-c437-4ffc-93c8-ff083e2c1ca6 button');\n",
              "          quickchartButtonEl.style.display =\n",
              "            google.colab.kernel.accessAllowed ? 'block' : 'none';\n",
              "        })();\n",
              "      </script>\n",
              "    </div>\n",
              "\n",
              "    </div>\n",
              "  </div>\n"
            ],
            "application/vnd.google.colaboratory.intrinsic+json": {
              "type": "dataframe",
              "summary": "{\n  \"name\": \"df[[\\\"clean_tweet\\\", LABEL_COL]]\",\n  \"rows\": 5,\n  \"fields\": [\n    {\n      \"column\": \"clean_tweet\",\n      \"properties\": {\n        \"dtype\": \"string\",\n        \"num_unique_values\": 5,\n        \"samples\": [\n          \"batu langka tasbih jokowi hadiah habib luthfi harga mercy\",\n          \"negara ngutang bngun infrastruktur udah dipake masyarakat masyarakat ngeluh negara ngutang negara ngutang utang bayar kalo negara dapet hasil hasil negara ya pajak\",\n          \"era jokowi ekonomi indonesia pic twitter com w ythnxstp\"\n        ],\n        \"semantic_type\": \"\",\n        \"description\": \"\"\n      }\n    },\n    {\n      \"column\": \"sentimen\",\n      \"properties\": {\n        \"dtype\": \"string\",\n        \"num_unique_values\": 3,\n        \"samples\": [\n          \"negatif\",\n          \"netral\",\n          \"positif\"\n        ],\n        \"semantic_type\": \"\",\n        \"description\": \"\"\n      }\n    }\n  ]\n}"
            }
          },
          "metadata": {},
          "execution_count": 4
        }
      ],
      "source": [
        "\n",
        "def clean_text(text: str) -> str:\n",
        "    text = str(text).lower()\n",
        "    text = re.sub(r\"http\\S+|www\\S+|https\\S+\", \" \", text)  # URL\n",
        "    text = re.sub(r\"@\\w+|#\\w+\", \" \", text)                 # mention & hashtag\n",
        "    text = re.sub(r\"[^a-zA-Z\\s]\", \" \", text)                # non-huruf\n",
        "    tokens = text.split()\n",
        "    tokens = [stemmer.stem(w) for w in tokens if w not in stop_words]\n",
        "    return \" \".join(tokens)\n",
        "\n",
        "df[\"clean_tweet\"] = df[TEXT_COL].apply(clean_text)\n",
        "df[[\"clean_tweet\", LABEL_COL]].head()\n"
      ]
    },
    {
      "cell_type": "markdown",
      "id": "79f81139",
      "metadata": {
        "id": "79f81139"
      },
      "source": [
        "### 🔹 4) Split & TF-IDF"
      ]
    },
    {
      "cell_type": "code",
      "execution_count": 5,
      "id": "98ab0b63",
      "metadata": {
        "colab": {
          "base_uri": "https://localhost:8080/"
        },
        "id": "98ab0b63",
        "outputId": "ebece665-60aa-444b-b447-31e411dfe35a"
      },
      "outputs": [
        {
          "output_type": "execute_result",
          "data": {
            "text/plain": [
              "((1452, 10000), (363, 10000))"
            ]
          },
          "metadata": {},
          "execution_count": 5
        }
      ],
      "source": [
        "\n",
        "X, y = df[\"clean_tweet\"], df[LABEL_COL]\n",
        "X_train, X_test, y_train, y_test = train_test_split(\n",
        "    X, y, test_size=0.2, random_state=42, stratify=y\n",
        ")\n",
        "\n",
        "vectorizer = TfidfVectorizer(ngram_range=(1,2), max_features=10000)\n",
        "X_train_tfidf = vectorizer.fit_transform(X_train)\n",
        "X_test_tfidf = vectorizer.transform(X_test)\n",
        "\n",
        "X_train_tfidf.shape, X_test_tfidf.shape\n"
      ]
    },
    {
      "cell_type": "markdown",
      "id": "25996525",
      "metadata": {
        "id": "25996525"
      },
      "source": [
        "### 🔹 5) Latih Model — Naive Bayes"
      ]
    },
    {
      "cell_type": "code",
      "execution_count": 6,
      "id": "02330d40",
      "metadata": {
        "colab": {
          "base_uri": "https://localhost:8080/"
        },
        "id": "02330d40",
        "outputId": "7135d8b5-e1f9-4029-df8e-9d04dd3b99e8"
      },
      "outputs": [
        {
          "output_type": "stream",
          "name": "stdout",
          "text": [
            "[Naive Bayes] Accuracy: 0.5592 | F1 Macro: 0.5581\n",
            "              precision    recall  f1-score   support\n",
            "\n",
            "     negatif      0.565     0.588     0.576       119\n",
            "      netral      0.565     0.612     0.587       121\n",
            "     positif      0.546     0.480     0.511       123\n",
            "\n",
            "    accuracy                          0.559       363\n",
            "   macro avg      0.559     0.560     0.558       363\n",
            "weighted avg      0.558     0.559     0.558       363\n",
            "\n"
          ]
        }
      ],
      "source": [
        "\n",
        "nb = MultinomialNB(alpha=0.1)  # bisa coba 0.5/0.1 manual\n",
        "nb.fit(X_train_tfidf, y_train)\n",
        "y_pred_nb = nb.predict(X_test_tfidf)\n",
        "\n",
        "acc_nb = accuracy_score(y_test, y_pred_nb)\n",
        "f1_nb = f1_score(y_test, y_pred_nb, average=\"macro\")\n",
        "print(\"[Naive Bayes] Accuracy:\", round(acc_nb, 4), \"| F1 Macro:\", round(f1_nb, 4))\n",
        "print(classification_report(y_test, y_pred_nb, digits=3))\n"
      ]
    },
    {
      "cell_type": "markdown",
      "id": "dd5c8414",
      "metadata": {
        "id": "dd5c8414"
      },
      "source": [
        "### 🔹 6) Latih Model — Logistic Regression"
      ]
    },
    {
      "cell_type": "code",
      "execution_count": 7,
      "id": "497bab28",
      "metadata": {
        "colab": {
          "base_uri": "https://localhost:8080/"
        },
        "id": "497bab28",
        "outputId": "eb0e8dde-f7fc-4c2c-dc2f-bd5af4892c77"
      },
      "outputs": [
        {
          "output_type": "stream",
          "name": "stdout",
          "text": [
            "[Logistic Regression] Accuracy: 0.6116 | F1 Macro: 0.6081\n",
            "              precision    recall  f1-score   support\n",
            "\n",
            "     negatif      0.560     0.748     0.640       119\n",
            "      netral      0.622     0.612     0.617       121\n",
            "     positif      0.694     0.480     0.567       123\n",
            "\n",
            "    accuracy                          0.612       363\n",
            "   macro avg      0.625     0.613     0.608       363\n",
            "weighted avg      0.626     0.612     0.608       363\n",
            "\n"
          ]
        }
      ],
      "source": [
        "\n",
        "lr = LogisticRegression(max_iter=500, solver=\"liblinear\", class_weight=\"balanced\", C=0.1)\n",
        "lr.fit(X_train_tfidf, y_train)\n",
        "y_pred_lr = lr.predict(X_test_tfidf)\n",
        "\n",
        "acc_lr = accuracy_score(y_test, y_pred_lr)\n",
        "f1_lr = f1_score(y_test, y_pred_lr, average=\"macro\")\n",
        "print(\"[Logistic Regression] Accuracy:\", round(acc_lr, 4), \"| F1 Macro:\", round(f1_lr, 4))\n",
        "print(classification_report(y_test, y_pred_lr, digits=3))\n"
      ]
    },
    {
      "cell_type": "markdown",
      "id": "f4be5c2e",
      "metadata": {
        "id": "f4be5c2e"
      },
      "source": [
        "### 🔹 7) Pilih Model Terbaik & Evaluasi Akhir"
      ]
    },
    {
      "cell_type": "code",
      "execution_count": 8,
      "id": "ba815b04",
      "metadata": {
        "colab": {
          "base_uri": "https://localhost:8080/",
          "height": 500
        },
        "id": "ba815b04",
        "outputId": "db8e34ec-2376-49af-8f4f-4dee61fcca6b"
      },
      "outputs": [
        {
          "output_type": "stream",
          "name": "stdout",
          "text": [
            ">> Best model (n): Logistic Regression | Accuracy: 0.6116 | F1 Macro: 0.6081\n"
          ]
        },
        {
          "output_type": "display_data",
          "data": {
            "text/plain": [
              "<Figure size 640x480 with 2 Axes>"
            ],
            "image/png": "[encoded data removed]"
          },
          "metadata": {}
        }
      ],
      "source": [
        "\n",
        "if f1_lr >= f1_nb:\n",
        "    best_model_name = \"Logistic Regression\"\n",
        "    best_model = lr\n",
        "    y_pred = y_pred_lr\n",
        "    acc, f1m = acc_lr, f1_lr\n",
        "else:\n",
        "    best_model_name = \"Naive Bayes\"\n",
        "    best_model = nb\n",
        "    y_pred = y_pred_nb\n",
        "    acc, f1m = acc_nb, f1_nb\n",
        "\n",
        "print(f\">> Best model (n): {best_model_name} | Accuracy: {acc:.4f} | F1 Macro: {f1m:.4f}\")\n",
        "\n",
        "labels = sorted(y.unique())\n",
        "cm = confusion_matrix(y_test, y_pred, labels=labels)\n",
        "plt.imshow(cm)\n",
        "plt.xticks(range(len(labels)), labels, rotation=45)\n",
        "plt.yticks(range(len(labels)), labels)\n",
        "plt.title(f\"Confusion Matrix — {best_model_name} \")\n",
        "plt.colorbar()\n",
        "for i in range(cm.shape[0]):\n",
        "    for j in range(cm.shape[1]):\n",
        "        plt.text(j, i, cm[i,j], ha=\"center\", va=\"center\")\n",
        "plt.show()\n"
      ]
    },
    {
      "cell_type": "markdown",
      "id": "6e391bf4",
      "metadata": {
        "id": "6e391bf4"
      },
      "source": [
        "### 🔹 8) Export Laporan (CSV/TXT) & Simpan Model"
      ]
    },
    {
      "cell_type": "code",
      "execution_count": 9,
      "id": "373f358e",
      "metadata": {
        "colab": {
          "base_uri": "https://localhost:8080/"
        },
        "id": "373f358e",
        "outputId": "b11a953d-3252-468f-e62f-2b7ebe8993cf"
      },
      "outputs": [
        {
          "output_type": "execute_result",
          "data": {
            "text/plain": [
              "['test_predictions.csv',\n",
              " 'tfidf_vectorizer.joblib',\n",
              " 'metrics_overview.csv',\n",
              " 'model_best.joblib',\n",
              " 'model_info.txt']"
            ]
          },
          "metadata": {},
          "execution_count": 9
        }
      ],
      "source": [
        "\n",
        "# Prediksi per-baris\n",
        "pred_df = pd.DataFrame({\n",
        "    \"text\": X_test.values,\n",
        "    \"true\": y_test.values,\n",
        "    \"pred\": y_pred,\n",
        "    \"correct\": (y_pred == y_test).astype(int)\n",
        "})\n",
        "pred_df.to_csv(os.path.join(OUTPUT_DIR, \"test_predictions.csv\"), index=False)\n",
        "\n",
        "# Ringkasan metrik\n",
        "metrics_df = pd.DataFrame(classification_report(y_test, y_pred, output_dict=True)).transpose().reset_index().rename(columns={\"index\":\"label\"})\n",
        "metrics_df.to_csv(os.path.join(OUTPUT_DIR, \"metrics_overview.csv\"), index=False)\n",
        "\n",
        "# Info model\n",
        "with open(os.path.join(OUTPUT_DIR, \"model_info.txt\"), \"w\") as f:\n",
        "    f.write(f\"Best model (no tuning): {best_model_name}\\n\")\n",
        "    f.write(f\"Test Accuracy: {acc}\\n\")\n",
        "    f.write(f\"Test F1 Macro: {f1m}\\n\")\n",
        "\n",
        "# Simpan model & vectorizer\n",
        "joblib.dump(best_model, os.path.join(OUTPUT_DIR, \"model_best.joblib\"))\n",
        "joblib.dump(vectorizer, os.path.join(OUTPUT_DIR, \"tfidf_vectorizer.joblib\"))\n",
        "\n",
        "os.listdir(OUTPUT_DIR)\n"
      ]
    },
    {
      "cell_type": "markdown",
      "id": "0a700707",
      "metadata": {
        "id": "0a700707"
      },
      "source": [
        "### 🔹 9) ZIP Semua Output"
      ]
    },
    {
      "cell_type": "code",
      "execution_count": 10,
      "id": "00b23c0e",
      "metadata": {
        "colab": {
          "base_uri": "https://localhost:8080/",
          "height": 35
        },
        "id": "00b23c0e",
        "outputId": "0fe5cf91-06ad-4e80-cc41-93b8e5a3c38f"
      },
      "outputs": [
        {
          "output_type": "execute_result",
          "data": {
            "text/plain": [
              "'/content/sentiment_outputs_no_tuning/sentiment_outputs_no_tuning.zip'"
            ],
            "application/vnd.google.colaboratory.intrinsic+json": {
              "type": "string"
            }
          },
          "metadata": {},
          "execution_count": 10
        }
      ],
      "source": [
        "\n",
        "zip_path = os.path.join(OUTPUT_DIR, \"sentiment_outputs_no_tuning.zip\")\n",
        "with zipfile.ZipFile(zip_path, \"w\") as zf:\n",
        "    for fname in [\"test_predictions.csv\",\"metrics_overview.csv\",\"model_info.txt\",\n",
        "                  \"model_best.joblib\",\"tfidf_vectorizer.joblib\"]:\n",
        "        fpath = os.path.join(OUTPUT_DIR, fname)\n",
        "        if os.path.exists(fpath):\n",
        "            zf.write(fpath, arcname=fname)\n",
        "zip_path\n"
      ]
    },
    {
      "cell_type": "markdown",
      "id": "43cbf072",
      "metadata": {
        "id": "43cbf072"
      },
      "source": [
        "### 🔹 10) Salin ke Google Drive & Download Langsung"
      ]
    },
    {
      "cell_type": "code",
      "execution_count": 11,
      "id": "be6dd686",
      "metadata": {
        "colab": {
          "base_uri": "https://localhost:8080/",
          "height": 34
        },
        "id": "be6dd686",
        "outputId": "4ba29eba-0440-4069-9db3-e260eb2998d5"
      },
      "outputs": [
        {
          "output_type": "stream",
          "name": "stdout",
          "text": [
            "ZIP tersimpan di Drive: /content/drive/My Drive/AFI/Assigment/Sentiment/sentiment_outputs_no_tuning.zip\n"
          ]
        },
        {
          "output_type": "display_data",
          "data": {
            "text/plain": [
              "<IPython.core.display.Javascript object>"
            ],
            "application/javascript": [
              "\n",
              "    async function download(id, filename, size) {\n",
              "      if (!google.colab.kernel.accessAllowed) {\n",
              "        return;\n",
              "      }\n",
              "      const div = document.createElement('div');\n",
              "      const label = document.createElement('label');\n",
              "      label.textContent = `Downloading \"${filename}\": `;\n",
              "      div.appendChild(label);\n",
              "      const progress = document.createElement('progress');\n",
              "      progress.max = size;\n",
              "      div.appendChild(progress);\n",
              "      document.body.appendChild(div);\n",
              "\n",
              "      const buffers = [];\n",
              "      let downloaded = 0;\n",
              "\n",
              "      const channel = await google.colab.kernel.comms.open(id);\n",
              "      // Send a message to notify the kernel that we're ready.\n",
              "      channel.send({})\n",
              "\n",
              "      for await (const message of channel.messages) {\n",
              "        // Send a message to notify the kernel that we're ready.\n",
              "        channel.send({})\n",
              "        if (message.buffers) {\n",
              "          for (const buffer of message.buffers) {\n",
              "            buffers.push(buffer);\n",
              "            downloaded += buffer.byteLength;\n",
              "            progress.value = downloaded;\n",
              "          }\n",
              "        }\n",
              "      }\n",
              "      const blob = new Blob(buffers, {type: 'application/binary'});\n",
              "      const a = document.createElement('a');\n",
              "      a.href = window.URL.createObjectURL(blob);\n",
              "      a.download = filename;\n",
              "      div.appendChild(a);\n",
              "      a.click();\n",
              "      div.remove();\n",
              "    }\n",
              "  "
            ]
          },
          "metadata": {}
        },
        {
          "output_type": "display_data",
          "data": {
            "text/plain": [
              "<IPython.core.display.Javascript object>"
            ],
            "application/javascript": [
              "download(\"download_9a164245-6462-4af6-b801-5f550afe62b4\", \"sentiment_outputs_no_tuning.zip\", 682982)"
            ]
          },
          "metadata": {}
        }
      ],
      "source": [
        "\n",
        "from google.colab import files\n",
        "\n",
        "drive_zip_path = os.path.join(DRIVE_EXPORT_DIR, \"sentiment_outputs_no_tuning.zip\")\n",
        "!cp \"{zip_path}\" \"{drive_zip_path}\"\n",
        "print(\"ZIP tersimpan di Drive:\", drive_zip_path)\n",
        "\n",
        "files.download(zip_path)  # unduh ke komputer\n"
      ]
    }
  ],
  "metadata": {
    "colab": {
      "provenance": []
    },
    "language_info": {
      "name": "python"
    },
    "kernelspec": {
      "name": "python3",
      "display_name": "Python 3"
    }
  },
  "nbformat": 4,
  "nbformat_minor": 5
}